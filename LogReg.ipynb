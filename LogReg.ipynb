{
 "cells": [
  {
   "cell_type": "code",
   "execution_count": 1,
   "metadata": {},
   "outputs": [
    {
     "name": "stdout",
     "output_type": "stream",
     "text": [
      "Accuracy: 0.7515\n",
      "Classification Report:\n",
      "               precision    recall  f1-score   support\n",
      "\n",
      "           0       0.75      0.97      0.85      1407\n",
      "           1       0.77      0.23      0.35       593\n",
      "\n",
      "    accuracy                           0.75      2000\n",
      "   macro avg       0.76      0.60      0.60      2000\n",
      "weighted avg       0.76      0.75      0.70      2000\n",
      "\n"
     ]
    },
    {
     "name": "stderr",
     "output_type": "stream",
     "text": [
      "C:\\Users\\kacir\\AppData\\Local\\Temp\\ipykernel_103604\\4080569121.py:18: SettingWithCopyWarning: \n",
      "A value is trying to be set on a copy of a slice from a DataFrame\n",
      "\n",
      "See the caveats in the documentation: https://pandas.pydata.org/pandas-docs/stable/user_guide/indexing.html#returning-a-view-versus-a-copy\n",
      "  X.fillna(X.median(numeric_only=True), inplace=True)\n"
     ]
    }
   ],
   "source": [
    "import pandas as pd\n",
    "from sklearn.model_selection import train_test_split\n",
    "from sklearn.preprocessing import StandardScaler\n",
    "from sklearn.linear_model import LogisticRegression\n",
    "from sklearn.metrics import accuracy_score, classification_report\n",
    "\n",
    "df = pd.read_csv(\"schizophrenia_dataset.csv\")\n",
    "\n",
    "#Selection of features in a subset\n",
    "#Features selected: Age, Gender, Education Lvl, Family History of Schzophrenia, Substance Use, \n",
    "#Occupational Status, Ranking of Social Support, Ranking of Stress Factors\n",
    "#Should too many features be selected it results in overfiting. \n",
    "selected_features = [\"Age\", \"Gender\", \"Education_Level\", \"Family_History\", \"Substance_Use\", \"Occupation\", \"Social_Support\", \"Stress_Factors\"]\n",
    "X = df[selected_features]\n",
    "y = df[\"Diagnosis\"]\n",
    "\n",
    "#Fill the missing values with median for numerical features\n",
    "X.fillna(X.median(numeric_only=True), inplace=True)\n",
    "\n",
    "#Standardize the features\n",
    "scaler = StandardScaler()\n",
    "X_scaled = scaler.fit_transform(X)\n",
    "\n",
    "#Split into training and test sets\n",
    "X_train, X_test, y_train, y_test = train_test_split(X_scaled, y, test_size=0.2, random_state=3)\n",
    "\n",
    "#Train the model\n",
    "model = LogisticRegression()\n",
    "model.fit(X_train, y_train)\n",
    "\n",
    "#Make predictions\n",
    "y_pred = model.predict(X_test)\n",
    "\n",
    "#Evaluate model\n",
    "accuracy = accuracy_score(y_test, y_pred)\n",
    "print(f\"Accuracy: {accuracy:.4f}\")\n",
    "print(\"Classification Report:\\n\", classification_report(y_test, y_pred))\n"
   ]
  }
 ],
 "metadata": {
  "kernelspec": {
   "display_name": "Python 3 (ipykernel)",
   "language": "python",
   "name": "python3"
  },
  "language_info": {
   "codemirror_mode": {
    "name": "ipython",
    "version": 3
   },
   "file_extension": ".py",
   "mimetype": "text/x-python",
   "name": "python",
   "nbconvert_exporter": "python",
   "pygments_lexer": "ipython3",
   "version": "3.12.4"
  }
 },
 "nbformat": 4,
 "nbformat_minor": 4
}
